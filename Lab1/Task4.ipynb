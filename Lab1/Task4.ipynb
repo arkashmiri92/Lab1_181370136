{
 "cells": [
  {
   "cell_type": "code",
   "execution_count": 2,
   "id": "2c9994d7",
   "metadata": {},
   "outputs": [
    {
     "name": "stdout",
     "output_type": "stream",
     "text": [
      "Enter numbers of male: 12\n",
      "Enter number of female: 8\n",
      "Percentage of male:  60.0 %\n",
      "Percentage of female:  40.0 %\n"
     ]
    }
   ],
   "source": [
    "male=int(input(\"Enter numbers of male: \"))\n",
    "female=int(input(\"Enter number of female: \"))\n",
    "total=male+female\n",
    "malesPercent=(male/total)*100\n",
    "femalePercent=(female/total)*100\n",
    "print(\"Percentage of male: \",malesPercent,\"%\")\n",
    "print(\"Percentage of female: \",femalePercent,\"%\")"
   ]
  },
  {
   "cell_type": "code",
   "execution_count": null,
   "id": "a74b0999",
   "metadata": {},
   "outputs": [],
   "source": []
  }
 ],
 "metadata": {
  "kernelspec": {
   "display_name": "Python 3",
   "language": "python",
   "name": "python3"
  },
  "language_info": {
   "codemirror_mode": {
    "name": "ipython",
    "version": 3
   },
   "file_extension": ".py",
   "mimetype": "text/x-python",
   "name": "python",
   "nbconvert_exporter": "python",
   "pygments_lexer": "ipython3",
   "version": "3.8.8"
  }
 },
 "nbformat": 4,
 "nbformat_minor": 5
}
