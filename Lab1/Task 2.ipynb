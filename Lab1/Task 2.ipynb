{
 "cells": [
  {
   "cell_type": "code",
   "execution_count": 1,
   "id": "d56dab13",
   "metadata": {},
   "outputs": [
    {
     "name": "stdout",
     "output_type": "stream",
     "text": [
      " enter the total amount of charge 300\n",
      "Total tax:  75.0\n",
      "Total charges:  375.0\n",
      "Sale tax:  21.000000000000004\n",
      "Tips:  54.0\n"
     ]
    }
   ],
   "source": [
    "charges=int (input(\" enter the total amount of charge \" ))\n",
    "tips= charges*0.18\n",
    "sale_tax=charges*0.07\n",
    "total_tax=tips+sale_tax\n",
    "total_amount=charges+total_tax\n",
    "print(\"Total tax: \",total_tax)\n",
    "print(\"Total charges: \",total_amount)\n",
    "print(\"Sale tax: \",sale_tax)\n",
    "print(\"Tips: \",tips)\n"
   ]
  },
  {
   "cell_type": "code",
   "execution_count": null,
   "id": "df96e978",
   "metadata": {},
   "outputs": [],
   "source": []
  }
 ],
 "metadata": {
  "kernelspec": {
   "display_name": "Python 3",
   "language": "python",
   "name": "python3"
  },
  "language_info": {
   "codemirror_mode": {
    "name": "ipython",
    "version": 3
   },
   "file_extension": ".py",
   "mimetype": "text/x-python",
   "name": "python",
   "nbconvert_exporter": "python",
   "pygments_lexer": "ipython3",
   "version": "3.8.8"
  }
 },
 "nbformat": 4,
 "nbformat_minor": 5
}
