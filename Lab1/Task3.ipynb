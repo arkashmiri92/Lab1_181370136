{
 "cells": [
  {
   "cell_type": "code",
   "execution_count": 4,
   "id": "9f8ef72f",
   "metadata": {},
   "outputs": [
    {
     "name": "stdout",
     "output_type": "stream",
     "text": [
      "ENTER NUM OF COOKIES YOU WANT TO MAKE 300\n",
      "Total cup of sugar 9.38: \n",
      "Total cup of flour:17.19 \n",
      "Total cup of butter:6.25 \n"
     ]
    }
   ],
   "source": [
    "cookie = int(input(\"ENTER NUM OF COOKIES YOU WANT TO MAKE \"))\n",
    "cup_of_sugar =(cookie*1.5)/48\n",
    "cup_of_butter=(cookie*1)/48\n",
    "cup_of_flour=(cookie*2.75)/48\n",
    "print(\"Total cup of sugar {:.2f}: \".format(cup_of_sugar))\n",
    "print(\"Total cup of flour:{:.2f} \".format(cup_of_flour))\n",
    "print(\"Total cup of butter:{:.2f} \".format(cup_of_butter))"
   ]
  },
  {
   "cell_type": "code",
   "execution_count": null,
   "id": "8de421ea",
   "metadata": {},
   "outputs": [],
   "source": []
  }
 ],
 "metadata": {
  "kernelspec": {
   "display_name": "Python 3",
   "language": "python",
   "name": "python3"
  },
  "language_info": {
   "codemirror_mode": {
    "name": "ipython",
    "version": 3
   },
   "file_extension": ".py",
   "mimetype": "text/x-python",
   "name": "python",
   "nbconvert_exporter": "python",
   "pygments_lexer": "ipython3",
   "version": "3.8.8"
  }
 },
 "nbformat": 4,
 "nbformat_minor": 5
}
