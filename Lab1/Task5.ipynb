{
 "cells": [
  {
   "cell_type": "code",
   "execution_count": 1,
   "id": "bfdf1e59",
   "metadata": {},
   "outputs": [
    {
     "name": "stdout",
     "output_type": "stream",
     "text": [
      "Purchased stock amount:  82400.0\n",
      "Sold amount of stock:  88065.0\n",
      "Paid commision:  2400.0\n",
      "Recieved commsion:  2565.0\n"
     ]
    }
   ],
   "source": [
    "shares=2000\n",
    "share_per=40\n",
    "commission=(shares*share_per)*0.03\n",
    "sold_dollar=42.75\n",
    "recieved_commssion=(shares*sold_dollar)*0.03\n",
    "stock=(shares*share_per)+commission\n",
    "sale_stock=(shares*sold_dollar)+recieved_commssion\n",
    "print(\"Purchased stock amount: \",stock)\n",
    "print(\"Sold amount of stock: \",sale_stock)\n",
    "print(\"Paid commision: \",commission)\n",
    "print(\"Recieved commsion: \",recieved_commssion)"
   ]
  },
  {
   "cell_type": "code",
   "execution_count": null,
   "id": "685e540f",
   "metadata": {},
   "outputs": [],
   "source": []
  }
 ],
 "metadata": {
  "kernelspec": {
   "display_name": "Python 3",
   "language": "python",
   "name": "python3"
  },
  "language_info": {
   "codemirror_mode": {
    "name": "ipython",
    "version": 3
   },
   "file_extension": ".py",
   "mimetype": "text/x-python",
   "name": "python",
   "nbconvert_exporter": "python",
   "pygments_lexer": "ipython3",
   "version": "3.8.8"
  }
 },
 "nbformat": 4,
 "nbformat_minor": 5
}
