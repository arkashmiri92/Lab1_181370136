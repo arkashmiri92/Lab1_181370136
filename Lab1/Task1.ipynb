{
 "cells": [
  {
   "cell_type": "code",
   "execution_count": 1,
   "id": "8a728cc8",
   "metadata": {},
   "outputs": [
    {
     "name": "stdout",
     "output_type": "stream",
     "text": [
      "Enter amount of the purchase: 200\n",
      "Amount of purchase:  200\n",
      "Sale tax:  10.0\n",
      "County tax:  5.0\n",
      "Total tax:  15.0\n",
      "Total sale:  215.0\n"
     ]
    }
   ],
   "source": [
    "purchase=int(input(\"Enter amount of the purchase: \"))\n",
    "sale_tax=purchase*0.05\n",
    "county_tax=purchase*0.025\n",
    "total_tax=sale_tax+county_tax\n",
    "total_sale=purchase+total_tax\n",
    "print(\"Amount of purchase: \",purchase)\n",
    "print(\"Sale tax: \",sale_tax)\n",
    "print(\"County tax: \",county_tax)\n",
    "print(\"Total tax: \",total_tax)\n",
    "print(\"Total sale: \",total_sale)"
   ]
  },
  {
   "cell_type": "code",
   "execution_count": null,
   "id": "5f1c6fb5",
   "metadata": {},
   "outputs": [],
   "source": []
  }
 ],
 "metadata": {
  "kernelspec": {
   "display_name": "Python 3",
   "language": "python",
   "name": "python3"
  },
  "language_info": {
   "codemirror_mode": {
    "name": "ipython",
    "version": 3
   },
   "file_extension": ".py",
   "mimetype": "text/x-python",
   "name": "python",
   "nbconvert_exporter": "python",
   "pygments_lexer": "ipython3",
   "version": "3.8.8"
  }
 },
 "nbformat": 4,
 "nbformat_minor": 5
}
